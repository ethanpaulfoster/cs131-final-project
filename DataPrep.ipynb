{
 "cells": [
  {
   "cell_type": "code",
   "execution_count": null,
   "metadata": {},
   "outputs": [],
   "source": [
    "#Define video paths, run estimate_pose to get data_frames and keypoints. Format keypoints and pair with true labels\n",
    "import torch\n",
    "from poseEstimation import estimate_pose"
   ]
  },
  {
   "cell_type": "code",
   "execution_count": null,
   "metadata": {},
   "outputs": [],
   "source": [
    "labels2478 = \"0000000000000000000000000000000000000000000000000000000000000000000001122222222222222222222222222222222211111111111110000000000\"\n",
    "labels2479 = \"0000000000000000000000000000000000000000000000000001111222222222222222222222222111111111110000000000000000000\"\n",
    "labels2480 = \"000000000000000000000000000000000000000000000000000000111111111111111111111112222222222221111111111111000000000000000\"\n",
    "labels2481 = \"0000000000000000000000000000000000000000000000011111111111111111111111222222222221111111111111100000000000000000000000000000\"\n",
    "labels2484 = \"00000000000000000000000000000000000000000000000000000000000001111111111112222222222222222221111111111111110000000000000000000000000\"\n",
    "labels2487 = \"0000000000000000000000000000000000000000000000000000000000001112222222222222222211111111111112222222211111110000000000\"\n",
    "labels2488 = \"000000000000000000000000000000000000000000000001111122222222222222222222222222222211111111111000000000000000\"\n",
    "labels2489 = \"00000000000000000000000000000000000000000000000000000000000001111111111112222222222222221111111111111111110000000000000000000000000000\"\n",
    "labels2490 = \"00000000000000000000000000000000000000000000000000000000000000000000001111222222222222222211111111111111222222211111111100000000000\"\n",
    "labels2491 = \"000000000000000000000000000000000000111112222222222222222222222222222211111111111110000000000000\"\n",
    "labels2492 = \"00000000000000000000000000000000000000000000000000000000001111111111112222222222222222111111111111111000000000000000000\"\n",
    "labels2494 = \"000000000000000000000000000000000000000000000000000000000000000000000000000000000000000000000111111111112222222222222222221111111111111111100000000000000\"\n",
    "labels2496 = \"00000000000000000000000000000000000000000000000000000001111111112222222222222111111111111111111000000000000000000\"\n",
    "labels2497 = \"00000000000000000000000000000000000000000000000000000000000000000000000000000000001111122222222222222222222222222221111111111111111110000000000000000\"\n",
    "labels2499 = \"00000000000000000000000000000000000000000000000000000000000000000000000000000000111112222222222222222222222222222222111111111110000000000000\"\n",
    "labels2500 = \"000000000000000000000000000000000000000000000000000000000000000000000000000000000000000000111112222222222222222222222222222222111111111110000000000000000000000\"\n",
    "labels2504 = \"000000000000000000000000000000000000000000000000000000000000000000000000000000001111122222222222222211111111111222222222111111111100000000000\"\n",
    "labels2505 = \"000000000000000000000000000000000000000000000000000000000000000000000001111111111222222222222222111111111111111111111000000000000000000\"\n",
    "\n",
    "labelStrings = [labels2478, labels2479, labels2480, labels2481, labels2484, labels2487, labels2488, labels2489, labels2490, labels2491, labels2492, labels2494, labels2496, labels2497, labels2499, labels2500, labels2504, labels2505]\n",
    "movPaths = ['./videos/IMG_2478.mov', './videos/IMG_2479.mov', './videos/IMG_2480.mov', './videos/IMG_2481.mov', './videos/IMG_2484.mov', './videos/IMG_2487.mov', './videos/IMG_2488.mov', './videos/IMG_2489.mov', './videos/IMG_2490.mov', './videos/IMG_2491.mov', './videos/IMG_2492.mov', './videos/IMG_2494.mov', './videos/IMG_2496.mov','./videos/IMG_2497.mov','./videos/IMG_2499.mov' ,'./videos/IMG_2500.mov', './videos/IMG_2504.mov', './videos/IMG_2505.mov']"
   ]
  },
  {
   "cell_type": "code",
   "execution_count": null,
   "metadata": {
    "scrolled": false
   },
   "outputs": [],
   "source": [
    "#input: keypoints from prev and curr frames, boxes from prev and curr frames\n",
    "#output: labels from curr frame\n",
    "\n",
    "#store as dictionary with video names as keys, and then input and output as keys"
   ]
  },
  {
   "cell_type": "code",
   "execution_count": null,
   "metadata": {},
   "outputs": [],
   "source": [
    "def reformatData(keypoints, boxes, labelString):\n",
    "    inputs = []\n",
    "    outputs = []\n",
    "    for i in range(len(keypoints)):\n",
    "        if keypoints[i].size()[1] == 17:\n",
    "            currKeypoints = keypoints[i][0]\n",
    "            currBoxes = boxes[i]\n",
    "            combined = torch.cat((torch.flatten(currKeypoints), currBoxes))\n",
    "            inputs.append(combined.tolist())\n",
    "            outputs.append(int(labelString[i]))\n",
    "    return inputs, outputs\n",
    "        "
   ]
  },
  {
   "cell_type": "code",
   "execution_count": null,
   "metadata": {},
   "outputs": [],
   "source": [
    "data = {}\n",
    "for i in range(len(labelStrings)):\n",
    "    vidPath = movPaths[i]\n",
    "    labelString = labelStrings[i]\n",
    "    _, keypoints, boxes = estimate_pose(vidPath)\n",
    "    inputs, outputs = reformatData(keypoints, boxes, labelString)\n",
    "    data[vidPath] = {}\n",
    "    data[vidPath]['inputs'] = inputs\n",
    "    data[vidPath]['outputs'] = outputs"
   ]
  },
  {
   "cell_type": "code",
   "execution_count": null,
   "metadata": {},
   "outputs": [],
   "source": [
    "import pickle\n",
    "\n",
    "filename = 'Datasets/dataset.pkl'\n",
    "\n",
    "with open(filename, 'wb') as file:\n",
    "    pickle.dump(data, file)"
   ]
  },
  {
   "cell_type": "code",
   "execution_count": null,
   "metadata": {},
   "outputs": [],
   "source": []
  }
 ],
 "metadata": {
  "kernelspec": {
   "display_name": "firstEnv",
   "language": "python",
   "name": "firstenv"
  },
  "language_info": {
   "codemirror_mode": {
    "name": "ipython",
    "version": 3
   },
   "file_extension": ".py",
   "mimetype": "text/x-python",
   "name": "python",
   "nbconvert_exporter": "python",
   "pygments_lexer": "ipython3",
   "version": "3.11.5"
  }
 },
 "nbformat": 4,
 "nbformat_minor": 4
}
